{
 "cells": [
  {
   "cell_type": "code",
   "execution_count": 3,
   "metadata": {},
   "outputs": [
    {
     "name": "stdout",
     "output_type": "stream",
     "text": [
      "X value:- 5343\n",
      "<class 'int'>\n",
      "a value:- 324\n"
     ]
    }
   ],
   "source": [
    "# Data Types\n",
    "\n",
    "#Integers\n",
    "x=5343\n",
    "print(\"X value:-\",x)\n",
    "print(type(x))\n",
    "\n",
    "a=324\n",
    "print(\"a value:-\",a)"
   ]
  },
  {
   "cell_type": "code",
   "execution_count": 5,
   "metadata": {},
   "outputs": [
    {
     "name": "stdout",
     "output_type": "stream",
     "text": [
      "f value:- 235.34\n",
      "<class 'float'>\n",
      "l value:- 54.453\n"
     ]
    }
   ],
   "source": [
    "#float\n",
    "\n",
    "f=235.34\n",
    "print(\"f value:-\",f)\n",
    "print(type(f))\n",
    "\n",
    "l=54.453\n",
    "print(\"l value:-\",l)"
   ]
  },
  {
   "cell_type": "code",
   "execution_count": 8,
   "metadata": {},
   "outputs": [
    {
     "name": "stdout",
     "output_type": "stream",
     "text": [
      "k value:- 78674j\n",
      "<class 'complex'>\n",
      "t value:- 34434j\n"
     ]
    }
   ],
   "source": [
    "#complex\n",
    "\n",
    "k=78674j\n",
    "print(\"k value:-\",k)\n",
    "print(type(k))\n",
    "\n",
    "t=34434j\n",
    "print(\"t value:-\",t)"
   ]
  },
  {
   "cell_type": "code",
   "execution_count": 10,
   "metadata": {},
   "outputs": [
    {
     "name": "stdout",
     "output_type": "stream",
     "text": [
      "False\n",
      "<class 'bool'>\n",
      "True\n"
     ]
    }
   ],
   "source": [
    "#boolean\n",
    "\n",
    "s=16 \n",
    "j=9\n",
    "n=s<=j\n",
    "print(n)\n",
    "print(type(n))\n",
    "\n",
    "num=10>9\n",
    "print(num)"
   ]
  },
  {
   "cell_type": "code",
   "execution_count": 13,
   "metadata": {},
   "outputs": [
    {
     "name": "stdout",
     "output_type": "stream",
     "text": [
      "<class 'str'>\n",
      "Length:- 6\n",
      "Upper_case:- SINDHU\n",
      "Lower_case:- sindhu\n",
      "Slicing:- Python is \n",
      "n is a easy programming language\n",
      "Python is a \n",
      "Python is a easy programming language\n",
      "Pto saes\n",
      "egaugnal gnimmargorp ysae a si nohtyP\n",
      "Sindhu\n",
      "5\n",
      "-1\n",
      "2\n",
      "True\n",
      "True\n",
      "False\n",
      "True\n",
      "False\n",
      "sindhh\n",
      "sindhu\n",
      "False\n",
      "False\n",
      "['sindhu']\n",
      "Python programming\n",
      "PythonPythonPython\n",
      "Pythonprogrammingprogramming\n",
      "You can learn Python easily at YouTube\n",
      "You can learn Python easily at YouTube\n",
      "you can learn Python easily at YouTube\n",
      "you can learn Python easily at YouTube\n"
     ]
    }
   ],
   "source": [
    "#String\n",
    "\n",
    "name=\"sindhu\"\n",
    "print(type(name))\n",
    "print(\"Length:-\",len(name))\n",
    "print(\"Upper_case:-\",name.upper())\n",
    "print(\"Lower_case:-\",name.lower())\n",
    "\n",
    "#Slicing:-To get a range of characters\n",
    "k=\"Python is a easy programming language\"\n",
    "print(\"Slicing:-\",k[0:10]) #from 0 index to 10th index\n",
    "print(k[5:])#we get whole string from 5th index\n",
    "print(k[:12])#we get the output from 0 to the end point\n",
    "print(k[ : ])#we get the whole string\n",
    "print(k[0:15:2])#we get the output from 0 to 15 index and skips 2 indexs\n",
    "print(k[: :-1])#Reversing a string\n",
    "print(name.capitalize())#capitalize the first char in string\n",
    "print(k.count('a'))#count of the specified value\n",
    "print(name.find('y'))#finds index of the specified value\n",
    "print(k.index('t'))#index number of the specified value\n",
    "print(name.isalnum())\n",
    "print(name.isalpha())\n",
    "print(name.isdecimal())\n",
    "print(name.islower())\n",
    "print(name.isupper())\n",
    "print(name.replace('u','h' ))\n",
    "print(name.strip())\n",
    "print(name.startswith('h'))\n",
    "print(name.endswith('v'))\n",
    "print(name.split())\n",
    "\n",
    "\n",
    "#String Operations\n",
    "\n",
    "a=\"Python\"\n",
    "b=\"programming\"\n",
    "print(a+\" \"+b)\n",
    "print(a*3)\n",
    "print(a+b*2)\n",
    "\n",
    "\n",
    "#String Interpolation\n",
    "\n",
    "k=\"Python\"\n",
    "p=\"YouTube\"\n",
    "\n",
    "c='You can learn %s easily at %s'%(k,p)\n",
    "print(c)\n",
    "\n",
    "x=f'You can learn {k} easily at {p}'\n",
    "print(x)\n",
    "\n",
    "z='you can learn {k} easily at {p}'.format(k=k,p=p)\n",
    "print(z)\n",
    "\n",
    "from string import Template\n",
    "h=Template('you can learn $k easily at $p')\n",
    "print(h.substitute(k=k,p=p))\n",
    "\n",
    "\n",
    "\n",
    "\n",
    "\n"
   ]
  },
  {
   "cell_type": "code",
   "execution_count": 14,
   "metadata": {},
   "outputs": [
    {
     "name": "stdout",
     "output_type": "stream",
     "text": [
      "[123, 'Python', 234, 'Programm', 2353, 'sindhu', 765, 'AIT', 87.87, 54j]\n",
      "['Python', 234, 'Programm']\n",
      "[123, 'Python programming', 234, 'Programm', 2353, 'sindhu', 765, 'AIT', 87.87, 54j]\n",
      "[123, 'Python programming', 234, 'Programm', 2353, 'sindhu', 765, 'AIT', 87.87, 54j, 'complex']\n",
      "[123, 'Python programming', 234, 'Programm', 'programming', 2353, 'sindhu', 765, 'AIT', 87.87, 54j, 'complex']\n",
      "['complex', 54j, 87.87, 'AIT', 765, 'sindhu', 2353, 'programming', 'Programm', 234, 'Python programming', 123]\n"
     ]
    }
   ],
   "source": [
    "#List DataType\n",
    "\n",
    "mylist=[223,'Python',284,'Programm',3353,'sindhu',865,'AIT',89.97,94j]\n",
    "print(mylist)\n",
    "print(mylist[1:4])\n",
    "mylist[1]='Python programming' #replacing value\n",
    "print(mylist)\n",
    "mylist.append('complex')\n",
    "print(mylist)\n",
    "mylist.insert(4,'programming')\n",
    "print(mylist)\n",
    "mylist.reverse()\n",
    "print(mylist)"
   ]
  },
  {
   "cell_type": "code",
   "execution_count": 22,
   "metadata": {},
   "outputs": [
    {
     "name": "stdout",
     "output_type": "stream",
     "text": [
      "{1: 'C', 2: 'C++', 3: 'Java', 4: 'Python', 5: 'SQL', 6: 'Data Science'}\n",
      "SQL\n",
      "C++\n",
      "{1: 'C', 2: 'C++', 3: 'Java', 4: 'Python', 5: 'SQL', 6: 'Data Analyst'}\n",
      "Python\n"
     ]
    }
   ],
   "source": [
    "#Dictionary DataType\n",
    "\n",
    "Courses={1:'C',2:'C++',3:'Java',4:'Python',5:'SQL',6:'Data Science'}\n",
    "print(Courses)\n",
    "print(Courses[5])\n",
    "print(Courses.get(2))\n",
    "Courses[6]='Data Analyst' #replacing or updating\n",
    "print(Courses)\n",
    "print(Courses[4])"
   ]
  },
  {
   "cell_type": "code",
   "execution_count": 26,
   "metadata": {},
   "outputs": [
    {
     "name": "stdout",
     "output_type": "stream",
     "text": [
      "('khaleja', 'svsc', 'No1', 'okkadu', 'khaleja', 'murari', 'athadu')\n",
      "2\n",
      "murari\n"
     ]
    }
   ],
   "source": [
    "#Tuple DataType\n",
    "\n",
    "mahesh_movies=('khaleja','svsc','No1','okkadu','khaleja','murari','athadu')\n",
    "print(mahesh_movies)\n",
    "print(mahesh_movies.count('khaleja'))\n",
    "print(mahesh_movies[5])\n"
   ]
  },
  {
   "cell_type": "code",
   "execution_count": 15,
   "metadata": {},
   "outputs": [
    {
     "name": "stdout",
     "output_type": "stream",
     "text": [
      "{354, 'sindhu', 5464, 'Python', 24, 'mahesh', 123, 4575}\n"
     ]
    }
   ],
   "source": [
    "##Set Data-Type\n",
    "\n",
    "myset={24,5464,123,'Python','mahesh','sindhu',354,4575}\n",
    "print(myset)\n",
    "\n"
   ]
  },
  {
   "cell_type": "code",
   "execution_count": 28,
   "metadata": {},
   "outputs": [
    {
     "name": "stdout",
     "output_type": "stream",
     "text": [
      "[0, 1, 2, 3, 4, 5, 6, 7, 8, 9, 10]\n",
      "[[345, 67, 23, 789], {432, 89, 987, 765}]\n"
     ]
    }
   ],
   "source": [
    "#Range DataType\n",
    "\n",
    "range(0,10)\n",
    "print(list(range(11)))\n",
    "\n",
    "a=[345,67,23,789]\n",
    "b={432,987,765,89}\n",
    "c=[a,b]\n",
    "print(c)"
   ]
  }
 ],
 "metadata": {
  "kernelspec": {
   "display_name": "Python 3",
   "language": "python",
   "name": "python3"
  },
  "language_info": {
   "codemirror_mode": {
    "name": "ipython",
    "version": 3
   },
   "file_extension": ".py",
   "mimetype": "text/x-python",
   "name": "python",
   "nbconvert_exporter": "python",
   "pygments_lexer": "ipython3",
   "version": "3.11.9"
  }
 },
 "nbformat": 4,
 "nbformat_minor": 2
}
